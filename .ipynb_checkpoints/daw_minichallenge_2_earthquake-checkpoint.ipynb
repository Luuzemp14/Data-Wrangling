{
 "cells": [
  {
   "cell_type": "code",
   "execution_count": 34,
   "id": "883dc92d",
   "metadata": {},
   "outputs": [],
   "source": [
    "import pandas as pd\n",
    "import numpy as np\n",
    "import geojson as geo\n",
    "import requests"
   ]
  },
  {
   "cell_type": "markdown",
   "id": "aa53babd",
   "metadata": {},
   "source": [
    "# 1.\n",
    "## a) Lade die Daten herunter und lese sie in eine geeignete Datenstruktur ein.\n"
   ]
  },
  {
   "cell_type": "code",
   "execution_count": 38,
   "id": "9d53f272",
   "metadata": {},
   "outputs": [],
   "source": [
    "#Url Dateien einlesen, damit man immer die aktuellen Daten hat\n",
    "\n",
    "url_h = \"https://earthquake.usgs.gov/earthquakes/feed/v1.0/summary/all_hour.geojson\"\n",
    "data_h = requests.get(url_h).json()\n",
    "\n",
    "url_d = \"https://earthquake.usgs.gov/earthquakes/feed/v1.0/summary/all_day.geojson\"\n",
    "data_d = requests.get(url_d).json()\n",
    "\n",
    "url_w = \"https://earthquake.usgs.gov/earthquakes/feed/v1.0/summary/all_week.geojson\"\n",
    "data_w = requests.get(url_w).json()\n",
    "\n",
    "url_m = \"https://earthquake.usgs.gov/earthquakes/feed/v1.0/summary/all_month.geojson\"\n",
    "data_m = requests.get(url_m).json()"
   ]
  },
  {
   "cell_type": "code",
   "execution_count": 39,
   "id": "b19a4b6e",
   "metadata": {},
   "outputs": [
    {
     "data": {
      "text/html": [
       "<div>\n",
       "<style scoped>\n",
       "    .dataframe tbody tr th:only-of-type {\n",
       "        vertical-align: middle;\n",
       "    }\n",
       "\n",
       "    .dataframe tbody tr th {\n",
       "        vertical-align: top;\n",
       "    }\n",
       "\n",
       "    .dataframe thead th {\n",
       "        text-align: right;\n",
       "    }\n",
       "</style>\n",
       "<table border=\"1\" class=\"dataframe\">\n",
       "  <thead>\n",
       "    <tr style=\"text-align: right;\">\n",
       "      <th></th>\n",
       "      <th>type</th>\n",
       "      <th>features</th>\n",
       "      <th>bbox</th>\n",
       "      <th>metadata.generated</th>\n",
       "      <th>metadata.url</th>\n",
       "      <th>metadata.title</th>\n",
       "      <th>metadata.status</th>\n",
       "      <th>metadata.api</th>\n",
       "      <th>metadata.count</th>\n",
       "    </tr>\n",
       "  </thead>\n",
       "  <tbody>\n",
       "    <tr>\n",
       "      <th>0</th>\n",
       "      <td>FeatureCollection</td>\n",
       "      <td>[{'type': 'Feature', 'properties': {'mag': 0.3...</td>\n",
       "      <td>[-155.2088, 18.7946, 1.59, -122.7610016, 64.00...</td>\n",
       "      <td>1649323260000</td>\n",
       "      <td>https://earthquake.usgs.gov/earthquakes/feed/v...</td>\n",
       "      <td>USGS All Earthquakes, Past Hour</td>\n",
       "      <td>200</td>\n",
       "      <td>1.10.3</td>\n",
       "      <td>9</td>\n",
       "    </tr>\n",
       "  </tbody>\n",
       "</table>\n",
       "</div>"
      ],
      "text/plain": [
       "                type                                           features  \\\n",
       "0  FeatureCollection  [{'type': 'Feature', 'properties': {'mag': 0.3...   \n",
       "\n",
       "                                                bbox  metadata.generated  \\\n",
       "0  [-155.2088, 18.7946, 1.59, -122.7610016, 64.00...       1649323260000   \n",
       "\n",
       "                                        metadata.url  \\\n",
       "0  https://earthquake.usgs.gov/earthquakes/feed/v...   \n",
       "\n",
       "                    metadata.title  metadata.status metadata.api  \\\n",
       "0  USGS All Earthquakes, Past Hour              200       1.10.3   \n",
       "\n",
       "   metadata.count  \n",
       "0               9  "
      ]
     },
     "execution_count": 39,
     "metadata": {},
     "output_type": "execute_result"
    }
   ],
   "source": [
    "df_h = pd.json_normalize(data_h)\n",
    "df_h"
   ]
  },
  {
   "cell_type": "code",
   "execution_count": null,
   "id": "600c2aee",
   "metadata": {},
   "outputs": [],
   "source": []
  },
  {
   "cell_type": "code",
   "execution_count": null,
   "id": "32e49707",
   "metadata": {},
   "outputs": [],
   "source": []
  }
 ],
 "metadata": {
  "kernelspec": {
   "display_name": "Python 3",
   "language": "python",
   "name": "python3"
  },
  "language_info": {
   "codemirror_mode": {
    "name": "ipython",
    "version": 3
   },
   "file_extension": ".py",
   "mimetype": "text/x-python",
   "name": "python",
   "nbconvert_exporter": "python",
   "pygments_lexer": "ipython3",
   "version": "3.8.8"
  }
 },
 "nbformat": 4,
 "nbformat_minor": 5
}
